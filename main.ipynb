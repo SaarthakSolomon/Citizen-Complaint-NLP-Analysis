{
 "cells": [
  {
   "cell_type": "code",
   "execution_count": 2,
   "id": "5714c641",
   "metadata": {},
   "outputs": [
    {
     "name": "stdout",
     "output_type": "stream",
     "text": [
      "Requirement already satisfied: pandas in d:\\nlp analysis\\nlp-env\\lib\\site-packages (2.2.3)Note: you may need to restart the kernel to use updated packages.\n",
      "\n",
      "Requirement already satisfied: numpy in d:\\nlp analysis\\nlp-env\\lib\\site-packages (1.26.4)\n",
      "Requirement already satisfied: nltk in d:\\nlp analysis\\nlp-env\\lib\\site-packages (3.9.1)\n",
      "Requirement already satisfied: gensim in d:\\nlp analysis\\nlp-env\\lib\\site-packages (4.3.3)\n",
      "Requirement already satisfied: matplotlib in d:\\nlp analysis\\nlp-env\\lib\\site-packages (3.10.1)\n",
      "Requirement already satisfied: scikit-learn in d:\\nlp analysis\\nlp-env\\lib\\site-packages (1.6.1)\n",
      "Requirement already satisfied: seaborn in d:\\nlp analysis\\nlp-env\\lib\\site-packages (0.13.2)\n",
      "Requirement already satisfied: python-dateutil>=2.8.2 in d:\\nlp analysis\\nlp-env\\lib\\site-packages (from pandas) (2.9.0.post0)\n",
      "Requirement already satisfied: pytz>=2020.1 in d:\\nlp analysis\\nlp-env\\lib\\site-packages (from pandas) (2025.2)\n",
      "Requirement already satisfied: tzdata>=2022.7 in d:\\nlp analysis\\nlp-env\\lib\\site-packages (from pandas) (2025.2)\n",
      "Requirement already satisfied: click in d:\\nlp analysis\\nlp-env\\lib\\site-packages (from nltk) (8.1.8)\n",
      "Requirement already satisfied: joblib in d:\\nlp analysis\\nlp-env\\lib\\site-packages (from nltk) (1.4.2)\n",
      "Requirement already satisfied: regex>=2021.8.3 in d:\\nlp analysis\\nlp-env\\lib\\site-packages (from nltk) (2024.11.6)\n",
      "Requirement already satisfied: tqdm in d:\\nlp analysis\\nlp-env\\lib\\site-packages (from nltk) (4.67.1)\n",
      "Requirement already satisfied: scipy<1.14.0,>=1.7.0 in d:\\nlp analysis\\nlp-env\\lib\\site-packages (from gensim) (1.13.1)\n",
      "Requirement already satisfied: smart-open>=1.8.1 in d:\\nlp analysis\\nlp-env\\lib\\site-packages (from gensim) (7.1.0)\n",
      "Requirement already satisfied: contourpy>=1.0.1 in d:\\nlp analysis\\nlp-env\\lib\\site-packages (from matplotlib) (1.3.2)\n",
      "Requirement already satisfied: cycler>=0.10 in d:\\nlp analysis\\nlp-env\\lib\\site-packages (from matplotlib) (0.12.1)\n",
      "Requirement already satisfied: fonttools>=4.22.0 in d:\\nlp analysis\\nlp-env\\lib\\site-packages (from matplotlib) (4.57.0)\n",
      "Requirement already satisfied: kiwisolver>=1.3.1 in d:\\nlp analysis\\nlp-env\\lib\\site-packages (from matplotlib) (1.4.8)\n",
      "Requirement already satisfied: packaging>=20.0 in d:\\nlp analysis\\nlp-env\\lib\\site-packages (from matplotlib) (25.0)\n",
      "Requirement already satisfied: pillow>=8 in d:\\nlp analysis\\nlp-env\\lib\\site-packages (from matplotlib) (11.2.1)\n",
      "Requirement already satisfied: pyparsing>=2.3.1 in d:\\nlp analysis\\nlp-env\\lib\\site-packages (from matplotlib) (3.2.3)\n",
      "Requirement already satisfied: threadpoolctl>=3.1.0 in d:\\nlp analysis\\nlp-env\\lib\\site-packages (from scikit-learn) (3.6.0)\n",
      "Requirement already satisfied: six>=1.5 in d:\\nlp analysis\\nlp-env\\lib\\site-packages (from python-dateutil>=2.8.2->pandas) (1.17.0)\n",
      "Requirement already satisfied: wrapt in d:\\nlp analysis\\nlp-env\\lib\\site-packages (from smart-open>=1.8.1->gensim) (1.17.2)\n",
      "Requirement already satisfied: colorama in d:\\nlp analysis\\nlp-env\\lib\\site-packages (from click->nltk) (0.4.6)\n"
     ]
    }
   ],
   "source": [
    "pip install pandas numpy nltk gensim matplotlib scikit-learn seaborn"
   ]
  },
  {
   "cell_type": "code",
   "execution_count": 5,
   "id": "e5644599",
   "metadata": {},
   "outputs": [
    {
     "name": "stdout",
     "output_type": "stream",
     "text": [
      "   Score                                               Text\n",
      "0      5  I have bought several of the Vitality canned d...\n",
      "1      1  Product arrived labeled as Jumbo Salted Peanut...\n",
      "2      4  This is a confection that has been around a fe...\n",
      "3      2  If you are looking for the secret ingredient i...\n",
      "4      5  Great taffy at a great price.  There was a wid...\n"
     ]
    }
   ],
   "source": [
    "# 1. Environment Setup and Dataset Loading\n",
    "import pandas as pd\n",
    "\n",
    "# Load dataset (adjust the path if needed)\n",
    "df = pd.read_csv(\"D:\\\\NLP Analysis\\\\Data\\\\Reviews.csv\")\n",
    "\n",
    "# Drop nulls and preview\n",
    "df = df.dropna(subset=['Text'])\n",
    "print(df[['Score', 'Text']].head())\n"
   ]
  },
  {
   "cell_type": "code",
   "execution_count": 6,
   "id": "2ada49b1",
   "metadata": {},
   "outputs": [
    {
     "name": "stderr",
     "output_type": "stream",
     "text": [
      "[nltk_data] Downloading package punkt to C:\\Users\\solom/nltk_data...\n",
      "[nltk_data]   Package punkt is already up-to-date!\n",
      "[nltk_data] Downloading package stopwords to\n",
      "[nltk_data]     C:\\Users\\solom/nltk_data...\n",
      "[nltk_data]   Package stopwords is already up-to-date!\n",
      "[nltk_data] Downloading package wordnet to C:\\Users\\solom/nltk_data...\n",
      "[nltk_data]   Package wordnet is already up-to-date!\n"
     ]
    },
    {
     "name": "stdout",
     "output_type": "stream",
     "text": [
      "['bought', 'several', 'vitality', 'canned', 'dog', 'food', 'product', 'found', 'good', 'quality', 'product', 'look', 'like', 'stew', 'processed', 'meat', 'smell', 'better', 'labrador', 'finicky', 'appreciates', 'product', 'better']\n"
     ]
    }
   ],
   "source": [
    "import re\n",
    "import string\n",
    "import nltk\n",
    "from nltk.corpus import stopwords\n",
    "from nltk.tokenize import word_tokenize\n",
    "from nltk.stem import WordNetLemmatizer\n",
    "\n",
    "# Download resources once\n",
    "nltk.download('punkt')\n",
    "nltk.download('stopwords')\n",
    "nltk.download('wordnet')\n",
    "\n",
    "# Keep 5000 reviews for performance\n",
    "texts = df['Text'].head(5000).tolist()\n",
    "\n",
    "# Setup\n",
    "stop_words = set(stopwords.words('english'))\n",
    "lemmatizer = WordNetLemmatizer()\n",
    "\n",
    "def preprocess(text):\n",
    "    text = text.lower()\n",
    "    text = re.sub(r'\\d+', '', text)  # remove numbers\n",
    "    text = text.translate(str.maketrans('', '', string.punctuation))  # remove punctuation\n",
    "    tokens = word_tokenize(text)\n",
    "    tokens = [lemmatizer.lemmatize(w) for w in tokens if w not in stop_words and len(w) > 2]\n",
    "    return tokens\n",
    "\n",
    "# Apply preprocessing\n",
    "processed_texts = [preprocess(text) for text in texts]\n",
    "\n",
    "# Show example\n",
    "print(processed_texts[0])\n"
   ]
  },
  {
   "cell_type": "code",
   "execution_count": 7,
   "id": "15653811",
   "metadata": {},
   "outputs": [
    {
     "name": "stdout",
     "output_type": "stream",
     "text": [
      "\n",
      "TOPIC 1:\n",
      "price | store | amazon | box | buy | local | order | grocery | bag | time\n",
      "\n",
      "TOPIC 2:\n",
      "chip | bag | potato | salt | flavor | kettle | vinegar | calorie | salty | regular\n",
      "\n",
      "TOPIC 3:\n",
      "dog | food | newman | organic | year | cat | old | treat | ingredient | eat\n",
      "\n",
      "TOPIC 4:\n",
      "tea | green | drink | iced | bag | water | black | packet | leaf | drinking\n",
      "\n",
      "TOPIC 5:\n",
      "coffee | decaf | cup | strong | smooth | bitter | taste | melitta | blend | roast\n",
      "\n",
      "TOPIC 6:\n",
      "chocolate | hot | cocoa | cup | keurig | kcups | kcup | dark | best | tried\n",
      "\n",
      "TOPIC 7:\n",
      "mix | pancake | gluten | waffle | free | bisquick | make | biscuit | recipe | best\n",
      "\n",
      "TOPIC 8:\n",
      "like | good | taste | really | flavor | dont | water | little | sugar | sweet\n",
      "\n",
      "TOPIC 9:\n",
      "great | love | snack | calorie | eat | favorite | flavor | old | kid | make\n",
      "\n",
      "TOPIC 10:\n",
      "product | use | excellent | recommend | using | great | work | purchase | highly | received\n"
     ]
    }
   ],
   "source": [
    "from sklearn.feature_extraction.text import TfidfVectorizer\n",
    "from sklearn.decomposition import NMF\n",
    "\n",
    "# Convert preprocessed tokens back to text\n",
    "processed_texts_joined = [\" \".join(tokens) for tokens in processed_texts]\n",
    "\n",
    "# TF-IDF Vectorization\n",
    "tfidf_vectorizer = TfidfVectorizer(max_df=0.95, min_df=2, stop_words='english')\n",
    "tfidf = tfidf_vectorizer.fit_transform(processed_texts_joined)\n",
    "\n",
    "# NMF Topic Modeling\n",
    "num_topics = 10  # You can experiment with this\n",
    "nmf_model = NMF(n_components=num_topics, random_state=42)\n",
    "nmf_model.fit(tfidf)\n",
    "\n",
    "# Function to display topics\n",
    "def display_topics(model, feature_names, no_top_words):\n",
    "    for topic_idx, topic in enumerate(model.components_):\n",
    "        print(f\"\\nTOPIC {topic_idx + 1}:\")\n",
    "        print(\" | \".join([feature_names[i] for i in topic.argsort()[:-no_top_words - 1:-1]]))\n",
    "\n",
    "# Show top words in each topic\n",
    "tfidf_feature_names = tfidf_vectorizer.get_feature_names_out()\n",
    "display_topics(nmf_model, tfidf_feature_names, 10)\n"
   ]
  },
  {
   "cell_type": "code",
   "execution_count": 8,
   "id": "fd21f40d",
   "metadata": {},
   "outputs": [
    {
     "name": "stdout",
     "output_type": "stream",
     "text": [
      "K=2 => Coherence Score: 0.3383\n",
      "K=3 => Coherence Score: 0.3429\n",
      "K=4 => Coherence Score: 0.3561\n",
      "K=5 => Coherence Score: 0.3685\n",
      "K=6 => Coherence Score: 0.3837\n",
      "K=7 => Coherence Score: 0.4030\n",
      "K=8 => Coherence Score: 0.3983\n",
      "K=9 => Coherence Score: 0.4414\n",
      "K=10 => Coherence Score: 0.4950\n",
      "K=11 => Coherence Score: 0.4717\n",
      "K=12 => Coherence Score: 0.4806\n",
      "K=13 => Coherence Score: 0.4449\n",
      "K=14 => Coherence Score: 0.4528\n",
      "K=15 => Coherence Score: 0.4647\n"
     ]
    },
    {
     "data": {
      "image/png": "[encoded data removed]",
      "text/plain": [
       "<Figure size 1000x500 with 1 Axes>"
      ]
     },
     "metadata": {},
     "output_type": "display_data"
    }
   ],
   "source": [
    "from gensim.corpora import Dictionary\n",
    "from gensim.models import LdaModel, CoherenceModel\n",
    "import matplotlib.pyplot as plt\n",
    "\n",
    "# Prepare Dictionary and Corpus for Gensim\n",
    "dictionary = Dictionary(processed_texts)\n",
    "corpus = [dictionary.doc2bow(text) for text in processed_texts]\n",
    "\n",
    "# Evaluate Coherence for K = 2 to 15\n",
    "coherence_values = []\n",
    "model_list = []\n",
    "K_range = range(2, 16)\n",
    "\n",
    "for k in K_range:\n",
    "    lda_model = LdaModel(corpus=corpus, id2word=dictionary, num_topics=k, \n",
    "                         random_state=42, passes=10, alpha='auto', per_word_topics=True)\n",
    "    model_list.append(lda_model)\n",
    "    coherence_model = CoherenceModel(model=lda_model, texts=processed_texts, \n",
    "                                     dictionary=dictionary, coherence='c_v')\n",
    "    coherence_values.append(coherence_model.get_coherence())\n",
    "    print(f\"K={k} => Coherence Score: {coherence_values[-1]:.4f}\")\n",
    "\n",
    "# Plot the Coherence Scores\n",
    "plt.figure(figsize=(10, 5))\n",
    "plt.plot(K_range, coherence_values, marker='o')\n",
    "plt.xlabel(\"Number of Topics (K)\")\n",
    "plt.ylabel(\"Coherence Score (C_v)\")\n",
    "plt.title(\"Optimal K for LDA Based on Coherence Score\")\n",
    "plt.grid(True)\n",
    "plt.tight_layout()\n",
    "plt.show()\n"
   ]
  },
  {
   "cell_type": "code",
   "execution_count": 9,
   "id": "7b235c8f",
   "metadata": {},
   "outputs": [
    {
     "name": "stdout",
     "output_type": "stream",
     "text": [
      "\n",
      "TOPIC 1:\n",
      "0.046*\"food\" + 0.046*\"dog\" + 0.013*\"love\" + 0.013*\"year\" + 0.011*\"newman\" + 0.009*\"old\" + 0.009*\"one\" + 0.008*\"eat\" + 0.007*\"bag\" + 0.007*\"great\"\n",
      "\n",
      "TOPIC 2:\n",
      "0.021*\"mix\" + 0.016*\"product\" + 0.016*\"make\" + 0.015*\"pancake\" + 0.013*\"great\" + 0.012*\"gluten\" + 0.011*\"free\" + 0.010*\"like\" + 0.010*\"taste\" + 0.009*\"good\"\n",
      "\n",
      "TOPIC 3:\n",
      "0.026*\"icicle\" + 0.025*\"mic\" + 0.016*\"usb\" + 0.016*\"blue\" + 0.014*\"window\" + 0.013*\"recording\" + 0.012*\"work\" + 0.011*\"plug\" + 0.010*\"computer\" + 0.010*\"record\"\n",
      "\n",
      "TOPIC 4:\n",
      "0.037*\"food\" + 0.020*\"organic\" + 0.020*\"dog\" + 0.012*\"ingredient\" + 0.010*\"newman\" + 0.010*\"chicken\" + 0.008*\"brand\" + 0.007*\"baby\" + 0.007*\"sardine\" + 0.007*\"love\"\n",
      "\n",
      "TOPIC 5:\n",
      "0.082*\"coffee\" + 0.022*\"taste\" + 0.020*\"cup\" + 0.017*\"flavor\" + 0.014*\"like\" + 0.013*\"decaf\" + 0.010*\"good\" + 0.008*\"one\" + 0.008*\"strong\" + 0.008*\"cocoa\"\n",
      "\n",
      "TOPIC 6:\n",
      "0.018*\"sinus\" + 0.011*\"great\" + 0.008*\"watery\" + 0.008*\"swiss\" + 0.008*\"set\" + 0.007*\"setting\" + 0.006*\"horse\" + 0.006*\"weak\" + 0.006*\"work\" + 0.005*\"paste\"\n",
      "\n",
      "TOPIC 7:\n",
      "0.038*\"tea\" + 0.014*\"water\" + 0.011*\"drink\" + 0.010*\"product\" + 0.007*\"bag\" + 0.007*\"one\" + 0.007*\"green\" + 0.006*\"like\" + 0.006*\"taste\" + 0.006*\"would\"\n",
      "\n",
      "TOPIC 8:\n",
      "0.027*\"licorice\" + 0.014*\"nut\" + 0.014*\"hazelnut\" + 0.007*\"dynamic\" + 0.007*\"fresh\" + 0.007*\"relief\" + 0.006*\"root\" + 0.006*\"hear\" + 0.005*\"pricing\" + 0.005*\"black\"\n",
      "\n",
      "TOPIC 9:\n",
      "0.020*\"like\" + 0.019*\"chip\" + 0.015*\"good\" + 0.014*\"flavor\" + 0.013*\"taste\" + 0.013*\"bag\" + 0.009*\"great\" + 0.009*\"really\" + 0.009*\"one\" + 0.008*\"love\"\n",
      "\n",
      "TOPIC 10:\n",
      "0.013*\"chocolate\" + 0.011*\"product\" + 0.010*\"like\" + 0.010*\"good\" + 0.009*\"one\" + 0.009*\"would\" + 0.008*\"find\" + 0.008*\"amazon\" + 0.008*\"buy\" + 0.008*\"store\"\n"
     ]
    }
   ],
   "source": [
    "# Train final LDA model with K=10\n",
    "optimal_k = 10\n",
    "final_lda_model = LdaModel(corpus=corpus, id2word=dictionary, num_topics=optimal_k, \n",
    "                           random_state=42, passes=10, alpha='auto', per_word_topics=True)\n",
    "\n",
    "# Display topics\n",
    "for idx, topic in final_lda_model.print_topics(num_topics=optimal_k, num_words=10):\n",
    "    print(f\"\\nTOPIC {idx + 1}:\")\n",
    "    print(topic)\n"
   ]
  },
  {
   "cell_type": "code",
   "execution_count": 10,
   "id": "35c7e0c1",
   "metadata": {},
   "outputs": [
    {
     "name": "stdout",
     "output_type": "stream",
     "text": [
      "\n",
      "===== 🔍 NMF Topics (TF-IDF) =====\n",
      "\n",
      "TOPIC 1:\n",
      "price | store | amazon | box | buy | local | order | grocery | bag | time\n",
      "\n",
      "TOPIC 2:\n",
      "chip | bag | potato | salt | flavor | kettle | vinegar | calorie | salty | regular\n",
      "\n",
      "TOPIC 3:\n",
      "dog | food | newman | organic | year | cat | old | treat | ingredient | eat\n",
      "\n",
      "TOPIC 4:\n",
      "tea | green | drink | iced | bag | water | black | packet | leaf | drinking\n",
      "\n",
      "TOPIC 5:\n",
      "coffee | decaf | cup | strong | smooth | bitter | taste | melitta | blend | roast\n",
      "\n",
      "TOPIC 6:\n",
      "chocolate | hot | cocoa | cup | keurig | kcups | kcup | dark | best | tried\n",
      "\n",
      "TOPIC 7:\n",
      "mix | pancake | gluten | waffle | free | bisquick | make | biscuit | recipe | best\n",
      "\n",
      "TOPIC 8:\n",
      "like | good | taste | really | flavor | dont | water | little | sugar | sweet\n",
      "\n",
      "TOPIC 9:\n",
      "great | love | snack | calorie | eat | favorite | flavor | old | kid | make\n",
      "\n",
      "TOPIC 10:\n",
      "product | use | excellent | recommend | using | great | work | purchase | highly | received\n",
      "\n",
      "===== 🔍 LDA Topics (Bag of Words) =====\n",
      "\n",
      "TOPIC 1:\n",
      "0.046*\"food\" + 0.046*\"dog\" + 0.013*\"love\" + 0.013*\"year\" + 0.011*\"newman\" + 0.009*\"old\" + 0.009*\"one\" + 0.008*\"eat\" + 0.007*\"bag\" + 0.007*\"great\"\n",
      "\n",
      "TOPIC 2:\n",
      "0.021*\"mix\" + 0.016*\"product\" + 0.016*\"make\" + 0.015*\"pancake\" + 0.013*\"great\" + 0.012*\"gluten\" + 0.011*\"free\" + 0.010*\"like\" + 0.010*\"taste\" + 0.009*\"good\"\n",
      "\n",
      "TOPIC 3:\n",
      "0.026*\"icicle\" + 0.025*\"mic\" + 0.016*\"usb\" + 0.016*\"blue\" + 0.014*\"window\" + 0.013*\"recording\" + 0.012*\"work\" + 0.011*\"plug\" + 0.010*\"computer\" + 0.010*\"record\"\n",
      "\n",
      "TOPIC 4:\n",
      "0.037*\"food\" + 0.020*\"organic\" + 0.020*\"dog\" + 0.012*\"ingredient\" + 0.010*\"newman\" + 0.010*\"chicken\" + 0.008*\"brand\" + 0.007*\"baby\" + 0.007*\"sardine\" + 0.007*\"love\"\n",
      "\n",
      "TOPIC 5:\n",
      "0.082*\"coffee\" + 0.022*\"taste\" + 0.020*\"cup\" + 0.017*\"flavor\" + 0.014*\"like\" + 0.013*\"decaf\" + 0.010*\"good\" + 0.008*\"one\" + 0.008*\"strong\" + 0.008*\"cocoa\"\n",
      "\n",
      "TOPIC 6:\n",
      "0.018*\"sinus\" + 0.011*\"great\" + 0.008*\"watery\" + 0.008*\"swiss\" + 0.008*\"set\" + 0.007*\"setting\" + 0.006*\"horse\" + 0.006*\"weak\" + 0.006*\"work\" + 0.005*\"paste\"\n",
      "\n",
      "TOPIC 7:\n",
      "0.038*\"tea\" + 0.014*\"water\" + 0.011*\"drink\" + 0.010*\"product\" + 0.007*\"bag\" + 0.007*\"one\" + 0.007*\"green\" + 0.006*\"like\" + 0.006*\"taste\" + 0.006*\"would\"\n",
      "\n",
      "TOPIC 8:\n",
      "0.027*\"licorice\" + 0.014*\"nut\" + 0.014*\"hazelnut\" + 0.007*\"dynamic\" + 0.007*\"fresh\" + 0.007*\"relief\" + 0.006*\"root\" + 0.006*\"hear\" + 0.005*\"pricing\" + 0.005*\"black\"\n",
      "\n",
      "TOPIC 9:\n",
      "0.020*\"like\" + 0.019*\"chip\" + 0.015*\"good\" + 0.014*\"flavor\" + 0.013*\"taste\" + 0.013*\"bag\" + 0.009*\"great\" + 0.009*\"really\" + 0.009*\"one\" + 0.008*\"love\"\n",
      "\n",
      "TOPIC 10:\n",
      "0.013*\"chocolate\" + 0.011*\"product\" + 0.010*\"like\" + 0.010*\"good\" + 0.009*\"one\" + 0.009*\"would\" + 0.008*\"find\" + 0.008*\"amazon\" + 0.008*\"buy\" + 0.008*\"store\"\n"
     ]
    }
   ],
   "source": [
    "print(\"\\n===== 🔍 NMF Topics (TF-IDF) =====\")\n",
    "display_topics(nmf_model, tfidf_feature_names, 10)\n",
    "\n",
    "print(\"\\n===== 🔍 LDA Topics (Bag of Words) =====\")\n",
    "for idx, topic in final_lda_model.print_topics(num_topics=10, num_words=10):\n",
    "    print(f\"\\nTOPIC {idx + 1}:\")\n",
    "    print(topic)\n"
   ]
  }
 ],
 "metadata": {
  "kernelspec": {
   "display_name": "nlp-env",
   "language": "python",
   "name": "python3"
  },
  "language_info": {
   "codemirror_mode": {
    "name": "ipython",
    "version": 3
   },
   "file_extension": ".py",
   "mimetype": "text/x-python",
   "name": "python",
   "nbconvert_exporter": "python",
   "pygments_lexer": "ipython3",
   "version": "3.10.6"
  }
 },
 "nbformat": 4,
 "nbformat_minor": 5
}
